{
 "cells": [
  {
   "cell_type": "code",
   "execution_count": null,
   "metadata": {},
   "outputs": [],
   "source": [
    "#The below is an example of a dataset that a grocery store owner may take to make records."
   ]
  },
  {
   "cell_type": "code",
   "execution_count": 1,
   "metadata": {},
   "outputs": [],
   "source": [
    "from xml.etree import ElementTree as ET\n",
    "import pandas as pd\n",
    "\n",
    "xml = \"\"\"<?xml version=\"1.0\"?>\n",
    "<orders>\n",
    "    <order name=\"order_1\">\n",
    "        <bananas>0</bananas>\n",
    "        <apples>5</apples>\n",
    "        <strawberries>1 </strawberries>\n",
    "        <price>10.00</price> \n",
    "        <tax>1.00</tax>\n",
    "    </order>\n",
    "    <order name=\"order_2\">\n",
    "        <bananas>7</bananas>\n",
    "        <apples>2</apples>\n",
    "        <strawberries>3</strawberries>\n",
    "        <price>20.00</price> \n",
    "        <tax>2.00</tax>\n",
    "    </order>\n",
    "    <order name=\"order_3\">\n",
    "        <bananas>3</bananas>\n",
    "        <apples>6</apples>\n",
    "        <strawberries>13</strawberries>\n",
    "        <price>30.00</price> \n",
    "        <tax>3.00</tax>\n",
    "    </order>\n",
    "</orders>\"\"\"\n",
    "\n",
    "tree = ET.XML(xml)\n",
    "with open(\"test.xml\", \"wb\") as f:\n",
    "    f.write(ET.tostring(tree))\n",
    "    "
   ]
  },
  {
   "cell_type": "code",
   "execution_count": 2,
   "metadata": {},
   "outputs": [],
   "source": [
    "#I created \"test.xsd\" to make sure all future xml formats follow the one above.\n",
    "#The function below writes out the xml file to a dataframe if it fits the schema."
   ]
  },
  {
   "cell_type": "code",
   "execution_count": 11,
   "metadata": {},
   "outputs": [],
   "source": [
    "from lxml import etree\n",
    "\n",
    "def load_dataframe(xml_input):\n",
    "    xml_file = etree.parse(xml_input)\n",
    "    xml_validator = etree.XMLSchema(file= \"test.xsd\")\n",
    "\n",
    "    is_valid = xml_validator.validate(xml_file)\n",
    "\n",
    "    \n",
    "    if is_valid:\n",
    "        root = ET.parse(xml_input).getroot()\n",
    "\n",
    "        tags = {\"tags\":[]}\n",
    "        for elem in root:\n",
    "            tag = {}\n",
    "            tag[\"Price\"] = elem.find('price').text\n",
    "            tag[\"Tax\"] = elem.find('tax').text\n",
    "            tag[\"Bananas\"] = elem.find('bananas').text\n",
    "            tag[\"Apples\"] = elem.find('apples').text\n",
    "            tag[\"Strawberries\"] = elem.find('strawberries').text\n",
    "            tags[\"tags\"]. append(tag)\n",
    "\n",
    "        df_users = pd.DataFrame(tags[\"tags\"])\n",
    "        return df_users\n",
    "\n",
    "    else:\n",
    "        print('The data must be reformatted to fit the schema.')\n",
    "    \n"
   ]
  },
  {
   "cell_type": "code",
   "execution_count": null,
   "metadata": {},
   "outputs": [],
   "source": [
    "#\"test2.xml\" fits the schema,so a dataframe is outputted"
   ]
  },
  {
   "cell_type": "code",
   "execution_count": 14,
   "metadata": {},
   "outputs": [
    {
     "data": {
      "text/html": [
       "<div>\n",
       "<style scoped>\n",
       "    .dataframe tbody tr th:only-of-type {\n",
       "        vertical-align: middle;\n",
       "    }\n",
       "\n",
       "    .dataframe tbody tr th {\n",
       "        vertical-align: top;\n",
       "    }\n",
       "\n",
       "    .dataframe thead th {\n",
       "        text-align: right;\n",
       "    }\n",
       "</style>\n",
       "<table border=\"1\" class=\"dataframe\">\n",
       "  <thead>\n",
       "    <tr style=\"text-align: right;\">\n",
       "      <th></th>\n",
       "      <th>Price</th>\n",
       "      <th>Tax</th>\n",
       "      <th>Bananas</th>\n",
       "      <th>Apples</th>\n",
       "      <th>Strawberries</th>\n",
       "    </tr>\n",
       "  </thead>\n",
       "  <tbody>\n",
       "    <tr>\n",
       "      <th>0</th>\n",
       "      <td>2.7182818284</td>\n",
       "      <td>2.7182818284</td>\n",
       "      <td>1</td>\n",
       "      <td>1</td>\n",
       "      <td>2.7182818284</td>\n",
       "    </tr>\n",
       "    <tr>\n",
       "      <th>1</th>\n",
       "      <td>2.7182818284</td>\n",
       "      <td>2.7182818284</td>\n",
       "      <td>1</td>\n",
       "      <td>1</td>\n",
       "      <td>2.7182818284</td>\n",
       "    </tr>\n",
       "    <tr>\n",
       "      <th>2</th>\n",
       "      <td>2.7182818284</td>\n",
       "      <td>2.7182818284</td>\n",
       "      <td>1</td>\n",
       "      <td>1</td>\n",
       "      <td>2.7182818284</td>\n",
       "    </tr>\n",
       "    <tr>\n",
       "      <th>3</th>\n",
       "      <td>2.7182818284</td>\n",
       "      <td>2.7182818284</td>\n",
       "      <td>1</td>\n",
       "      <td>1</td>\n",
       "      <td>2.7182818284</td>\n",
       "    </tr>\n",
       "    <tr>\n",
       "      <th>4</th>\n",
       "      <td>2.7182818284</td>\n",
       "      <td>2.7182818284</td>\n",
       "      <td>1</td>\n",
       "      <td>1</td>\n",
       "      <td>2.7182818284</td>\n",
       "    </tr>\n",
       "    <tr>\n",
       "      <th>5</th>\n",
       "      <td>2.7182818284</td>\n",
       "      <td>2.7182818284</td>\n",
       "      <td>1</td>\n",
       "      <td>1</td>\n",
       "      <td>2.7182818284</td>\n",
       "    </tr>\n",
       "    <tr>\n",
       "      <th>6</th>\n",
       "      <td>2.7182818284</td>\n",
       "      <td>2.7182818284</td>\n",
       "      <td>1</td>\n",
       "      <td>1</td>\n",
       "      <td>2.7182818284</td>\n",
       "    </tr>\n",
       "  </tbody>\n",
       "</table>\n",
       "</div>"
      ],
      "text/plain": [
       "          Price           Tax Bananas Apples  Strawberries\n",
       "0  2.7182818284  2.7182818284       1      1  2.7182818284\n",
       "1  2.7182818284  2.7182818284       1      1  2.7182818284\n",
       "2  2.7182818284  2.7182818284       1      1  2.7182818284\n",
       "3  2.7182818284  2.7182818284       1      1  2.7182818284\n",
       "4  2.7182818284  2.7182818284       1      1  2.7182818284\n",
       "5  2.7182818284  2.7182818284       1      1  2.7182818284\n",
       "6  2.7182818284  2.7182818284       1      1  2.7182818284"
      ]
     },
     "execution_count": 14,
     "metadata": {},
     "output_type": "execute_result"
    }
   ],
   "source": [
    "load_dataframe('test2.xml')"
   ]
  },
  {
   "cell_type": "code",
   "execution_count": null,
   "metadata": {},
   "outputs": [],
   "source": [
    "#\"test3.xml\" does not fit the schema, so a dataframe is not outputted."
   ]
  },
  {
   "cell_type": "code",
   "execution_count": 15,
   "metadata": {},
   "outputs": [
    {
     "name": "stdout",
     "output_type": "stream",
     "text": [
      "The data must be reformatted to fit the schema.\n"
     ]
    }
   ],
   "source": [
    "load_dataframe('test3.xml')"
   ]
  },
  {
   "cell_type": "code",
   "execution_count": null,
   "metadata": {},
   "outputs": [],
   "source": []
  },
  {
   "cell_type": "code",
   "execution_count": null,
   "metadata": {},
   "outputs": [],
   "source": []
  }
 ],
 "metadata": {
  "kernelspec": {
   "display_name": "Python 3",
   "language": "python",
   "name": "python3"
  },
  "language_info": {
   "codemirror_mode": {
    "name": "ipython",
    "version": 3
   },
   "file_extension": ".py",
   "mimetype": "text/x-python",
   "name": "python",
   "nbconvert_exporter": "python",
   "pygments_lexer": "ipython3",
   "version": "3.7.4"
  }
 },
 "nbformat": 4,
 "nbformat_minor": 2
}
